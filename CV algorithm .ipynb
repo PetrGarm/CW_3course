{
 "cells": [
  {
   "cell_type": "code",
   "execution_count": 480,
   "metadata": {},
   "outputs": [],
   "source": [
    "import pandas as pd\n",
    "import numpy as np\n",
    "import statsmodels\n",
    "import matplotlib.pyplot as plt\n",
    "\n",
    "from sklearn.model_selection import TimeSeriesSplit\n",
    "from statsmodels.tsa.arima_model import ARIMA\n",
    "from sklearn.ensemble import RandomForestRegressor\n",
    "%matplotlib inline\n",
    "\n",
    "from tqdm import tqdm\n",
    "\n",
    "import quandl\n",
    "\n",
    "import warnings\n",
    "warnings.filterwarnings('ignore')\n",
    "\n",
    "seed = 10031998"
   ]
  },
  {
   "cell_type": "code",
   "execution_count": 217,
   "metadata": {},
   "outputs": [],
   "source": [
    "np.random.seed(seed)"
   ]
  },
  {
   "cell_type": "code",
   "execution_count": 128,
   "metadata": {
    "collapsed": true
   },
   "outputs": [],
   "source": [
    "def create_lagged_dataset(dataset, lag=1):\n",
    "    df = pd.DataFrame(dataset)\n",
    "    for i in range(lag):\n",
    "        new_feature = df.T.tail(1).T.shift(-1)\n",
    "        df = pd.concat((df, new_feature), axis=1)\n",
    "    dataX = df.values[:len(dataset) - lag,:-1]\n",
    "    dataY = df.values[:len(dataset) - lag,-1]\n",
    "    return dataX, dataY"
   ]
  },
  {
   "cell_type": "code",
   "execution_count": 91,
   "metadata": {
    "collapsed": true
   },
   "outputs": [],
   "source": [
    "# source: https://stats.stackexchange.com/questions/58391/mean-absolute-percentage-error-mape-in-scikit-learn\n",
    "def mean_absolute_percentage_error(y_true, y_pred): \n",
    "    return np.mean(np.abs((y_true - y_pred) / y_true)) * 100"
   ]
  },
  {
   "cell_type": "code",
   "execution_count": 258,
   "metadata": {},
   "outputs": [],
   "source": [
    "# ts_df = quandl.get(\"FRBP/ROUTPUT_MOSTRECENT\", authtoken=\"MHASo5sqBFCvT5s55CxJ\")\n",
    "ts_df = quandl.get(\"FRED/DFF\", authtoken=\"MHASo5sqBFCvT5s55CxJ\")"
   ]
  },
  {
   "cell_type": "code",
   "execution_count": 259,
   "metadata": {},
   "outputs": [
    {
     "data": {
      "text/html": [
       "<div>\n",
       "<style scoped>\n",
       "    .dataframe tbody tr th:only-of-type {\n",
       "        vertical-align: middle;\n",
       "    }\n",
       "\n",
       "    .dataframe tbody tr th {\n",
       "        vertical-align: top;\n",
       "    }\n",
       "\n",
       "    .dataframe thead th {\n",
       "        text-align: right;\n",
       "    }\n",
       "</style>\n",
       "<table border=\"1\" class=\"dataframe\">\n",
       "  <thead>\n",
       "    <tr style=\"text-align: right;\">\n",
       "      <th></th>\n",
       "      <th>Value</th>\n",
       "    </tr>\n",
       "    <tr>\n",
       "      <th>Date</th>\n",
       "      <th></th>\n",
       "    </tr>\n",
       "  </thead>\n",
       "  <tbody>\n",
       "    <tr>\n",
       "      <th>2019-05-13</th>\n",
       "      <td>2.38</td>\n",
       "    </tr>\n",
       "    <tr>\n",
       "      <th>2019-05-14</th>\n",
       "      <td>2.38</td>\n",
       "    </tr>\n",
       "    <tr>\n",
       "      <th>2019-05-15</th>\n",
       "      <td>2.40</td>\n",
       "    </tr>\n",
       "    <tr>\n",
       "      <th>2019-05-16</th>\n",
       "      <td>2.39</td>\n",
       "    </tr>\n",
       "    <tr>\n",
       "      <th>2019-05-17</th>\n",
       "      <td>2.39</td>\n",
       "    </tr>\n",
       "  </tbody>\n",
       "</table>\n",
       "</div>"
      ],
      "text/plain": [
       "            Value\n",
       "Date             \n",
       "2019-05-13   2.38\n",
       "2019-05-14   2.38\n",
       "2019-05-15   2.40\n",
       "2019-05-16   2.39\n",
       "2019-05-17   2.39"
      ]
     },
     "execution_count": 259,
     "metadata": {},
     "output_type": "execute_result"
    }
   ],
   "source": [
    "ts_df.tail()"
   ]
  },
  {
   "cell_type": "code",
   "execution_count": 260,
   "metadata": {},
   "outputs": [
    {
     "data": {
      "image/png": "[encoded data removed]",
      "text/plain": [
       "<matplotlib.figure.Figure at 0x2511e52da58>"
      ]
     },
     "metadata": {},
     "output_type": "display_data"
    }
   ],
   "source": [
    "ts_df.plot();"
   ]
  },
  {
   "cell_type": "code",
   "execution_count": 349,
   "metadata": {},
   "outputs": [],
   "source": [
    "# TOO SLOW !!!\n",
    "\n",
    "\n",
    "# # for RandomForest\n",
    "# def validate_gamma(lags, n_splits, ts, gamma_test_part = 6, gammas=[0.3, 0.9, 1]):\n",
    "#     ts_gamma_train = ts.values[: (gamma_test_part - 1) * int(ts.shape[0] // gamma_test_part)]\n",
    "#     ts_gamma_test = ts.values[(gamma_test_part - 1) * int(ts.shape[0] // gamma_test_part):]\n",
    "    \n",
    "#     res_mape = {}\n",
    "#     tscv = TimeSeriesSplit(n_splits=n_splits)\n",
    "#     gammas_best = []\n",
    "#     i = -1\n",
    "#     for gamma in gammas:\n",
    "#         i += 1\n",
    "#         lowest_mape = 10**10\n",
    "#         gammas_best.append(-1)\n",
    "#         for lag in lags:\n",
    "#             mapes = []\n",
    "#             for train_index, test_index in tscv.split(ts_gamma_train):\n",
    "#                 ts_train, ts_test = ts_gamma_train[train_index], ts_gamma_train[test_index]\n",
    "\n",
    "#                 # train test\n",
    "#                 X_train, y_train = create_lagged_dataset(ts_train, lag=lag)\n",
    "#                 X_test, y_test = create_lagged_dataset(ts_test, lag=lag)\n",
    "#                 model = RandomForestRegressor(random_state=seed)\n",
    "#                 model.fit(X_train,y_train)\n",
    "#                 y_hat = model.predict(X_test)\n",
    "\n",
    "#                 mapes.append(mean_absolute_percentage_error(y_test, y_hat))\n",
    "\n",
    "            \n",
    "#             powers = np.arange(len(mapes))[::-1]\n",
    "#             gammas = np.ones(len(mapes)) * gamma\n",
    "#             print(np.mean(np.power(gammas, powers) * mapes))\n",
    "#             res_mape[str(gamma) + \"_\" + str(lag)] = np.mean(np.power(gammas, powers) * mapes)\n",
    "#             if np.mean(np.power(gammas, powers) * mapes) < lowest_mape:\n",
    "#                 gammas_best[i] = lag\n",
    "#                 lowest_mape = np.mean(np.power(gammas, powers) * mapes)\n",
    "            \n",
    "#     mapes_for_gammas = []\n",
    "#     best_gamma = None\n",
    "#     if len(np.unique(gammas_best)) == 1:\n",
    "#         best_gamma = \"same_results\"\n",
    "#     else:\n",
    "#         for gamma_best in gammas_best:\n",
    "            \n",
    "#             X_train, y_train = create_lagged_dataset(ts_gamma_train, lag=gamma_best)\n",
    "#             X_test, y_test = create_lagged_dataset(ts_gamma_test, lag=gamma_best)\n",
    "#             model = RandomForestRegressor()\n",
    "#             model.fit(X_train, y_train)\n",
    "            \n",
    "#             y_hat = model.predict(X_test)\n",
    "#             mapes_for_gammas.append(mean_absolute_percentage_error(y_test, y_hat))\n",
    "        \n",
    "#         best_gamma = gammas[np.argmin(mapes_for_gammas)]\n",
    "            \n",
    "#     return res_mape , gammas_best , best_gamma\n",
    "            \n",
    "    \n",
    "            "
   ]
  },
  {
   "cell_type": "code",
   "execution_count": 481,
   "metadata": {},
   "outputs": [],
   "source": [
    "# for RandomForest\n",
    "\n",
    "def validate_gamma(lags, n_splits, ts, gamma_test_part = 7, gammas=[0.3, 0.5, 0.9, 1]):\n",
    "    ts_gamma_train = ts.values[: (gamma_test_part - 1) * int(ts.shape[0] // gamma_test_part)]\n",
    "    ts_gamma_test = ts.values[(gamma_test_part - 1) * int(ts.shape[0] // gamma_test_part):]\n",
    "    \n",
    "    res_mape = {}\n",
    "    tscv = TimeSeriesSplit(n_splits=n_splits)\n",
    "    gammas_best = []\n",
    "    i = -1\n",
    "\n",
    "    for lag in lags:\n",
    "        mapes = []\n",
    "        for train_index, test_index in tscv.split(ts_gamma_train):\n",
    "            ts_train, ts_test = ts_gamma_train[train_index], ts_gamma_train[test_index]\n",
    "\n",
    "            # train test\n",
    "            X_train, y_train = create_lagged_dataset(ts_train, lag=lag)\n",
    "            X_test, y_test = create_lagged_dataset(ts_test, lag=lag)\n",
    "            model = RandomForestRegressor(random_state=seed)\n",
    "            model.fit(X_train,y_train)\n",
    "            y_hat = model.predict(X_test)\n",
    "\n",
    "            mapes.append(mean_absolute_percentage_error(y_test, y_hat))\n",
    "\n",
    "\n",
    "        for gamma in gammas:\n",
    "            powers = np.arange(len(mapes))[::-1]\n",
    "            gammas_pow = np.ones(len(mapes)) * gamma\n",
    "            res_mape[str(gamma) + \"_\" + str(lag)] = np.mean(np.power(gammas_pow, powers) * mapes)\n",
    "            \n",
    "#     print(res_mape)\n",
    "    i = -1\n",
    "    for gamma in gammas:\n",
    "        i += 1\n",
    "        lowest_mape = 10**10\n",
    "        gammas_best.append(-1)\n",
    "        for lag in lags:\n",
    "            if res_mape[str(gamma) + \"_\" + str(lag)] < lowest_mape:\n",
    "                lowest_mape = res_mape[str(gamma) + \"_\" + str(lag)]\n",
    "                gammas_best[i] = lag\n",
    "            \n",
    "            \n",
    "    mapes_for_gammas = []\n",
    "    best_gamma = None\n",
    "    if len(np.unique(gammas_best)) == 1:\n",
    "        best_gamma = \"same_results_all_models\"\n",
    "    else:\n",
    "        for gamma_best in gammas_best:\n",
    "            X_train, y_train = create_lagged_dataset(ts_gamma_train, lag=gamma_best)\n",
    "            X_test, y_test = create_lagged_dataset(ts_gamma_test, lag=gamma_best)\n",
    "            model = RandomForestRegressor()\n",
    "            model.fit(X_train, y_train)\n",
    "            \n",
    "            y_hat = model.predict(X_test)\n",
    "            mapes_for_gammas.append(mean_absolute_percentage_error(y_test, y_hat))\n",
    "        \n",
    "        best_gamma = gammas[np.argmin(mapes_for_gammas)]\n",
    "    \n",
    "    if best_gamma != \"same_results_all_models\":\n",
    "        if gammas_best[np.argmin(mapes_for_gammas)] == gammas_best[-1]:\n",
    "            best_gamma = \"gamma_1_is_ok\"\n",
    "    return res_mape , gammas_best , best_gamma\n",
    "            \n",
    "    \n",
    "            "
   ]
  },
  {
   "cell_type": "code",
   "execution_count": 465,
   "metadata": {},
   "outputs": [
    {
     "data": {
      "text/plain": [
       "({'0.3_1': 6.871597961601185,\n",
       "  '0.3_2': 3.9077928392117327,\n",
       "  '0.3_3': 3.4847643402626973,\n",
       "  '0.9_1': 12.15140925977995,\n",
       "  '0.9_2': 9.404353831233056,\n",
       "  '0.9_3': 9.121029712470856,\n",
       "  '1_1': 14.407775670678138,\n",
       "  '1_2': 11.765602622094434,\n",
       "  '1_3': 11.557189843234141},\n",
       " [3, 3, 3],\n",
       " 'same_results_all_models')"
      ]
     },
     "execution_count": 465,
     "metadata": {},
     "output_type": "execute_result"
    }
   ],
   "source": [
    "validate_gamma([1,2,3], 5, ts_df)"
   ]
  },
  {
   "cell_type": "code",
   "execution_count": 451,
   "metadata": {
    "collapsed": true
   },
   "outputs": [],
   "source": [
    "# M4 competition\n",
    "df = pd.read_csv(\"Monthly-train.csv\")"
   ]
  },
  {
   "cell_type": "code",
   "execution_count": 452,
   "metadata": {},
   "outputs": [
    {
     "data": {
      "text/html": [
       "<div>\n",
       "<style scoped>\n",
       "    .dataframe tbody tr th:only-of-type {\n",
       "        vertical-align: middle;\n",
       "    }\n",
       "\n",
       "    .dataframe tbody tr th {\n",
       "        vertical-align: top;\n",
       "    }\n",
       "\n",
       "    .dataframe thead th {\n",
       "        text-align: right;\n",
       "    }\n",
       "</style>\n",
       "<table border=\"1\" class=\"dataframe\">\n",
       "  <thead>\n",
       "    <tr style=\"text-align: right;\">\n",
       "      <th></th>\n",
       "      <th>V1</th>\n",
       "      <th>V2</th>\n",
       "      <th>V3</th>\n",
       "      <th>V4</th>\n",
       "      <th>V5</th>\n",
       "      <th>V6</th>\n",
       "      <th>V7</th>\n",
       "      <th>V8</th>\n",
       "      <th>V9</th>\n",
       "      <th>V10</th>\n",
       "      <th>...</th>\n",
       "      <th>V2786</th>\n",
       "      <th>V2787</th>\n",
       "      <th>V2788</th>\n",
       "      <th>V2789</th>\n",
       "      <th>V2790</th>\n",
       "      <th>V2791</th>\n",
       "      <th>V2792</th>\n",
       "      <th>V2793</th>\n",
       "      <th>V2794</th>\n",
       "      <th>V2795</th>\n",
       "    </tr>\n",
       "  </thead>\n",
       "  <tbody>\n",
       "    <tr>\n",
       "      <th>0</th>\n",
       "      <td>M1</td>\n",
       "      <td>8000.0</td>\n",
       "      <td>8350.0</td>\n",
       "      <td>8570.0</td>\n",
       "      <td>7700.0</td>\n",
       "      <td>7080.0</td>\n",
       "      <td>6520.0</td>\n",
       "      <td>6070.0</td>\n",
       "      <td>6650.0</td>\n",
       "      <td>6830.0</td>\n",
       "      <td>...</td>\n",
       "      <td>NaN</td>\n",
       "      <td>NaN</td>\n",
       "      <td>NaN</td>\n",
       "      <td>NaN</td>\n",
       "      <td>NaN</td>\n",
       "      <td>NaN</td>\n",
       "      <td>NaN</td>\n",
       "      <td>NaN</td>\n",
       "      <td>NaN</td>\n",
       "      <td>NaN</td>\n",
       "    </tr>\n",
       "    <tr>\n",
       "      <th>1</th>\n",
       "      <td>M2</td>\n",
       "      <td>2440.0</td>\n",
       "      <td>2490.0</td>\n",
       "      <td>2710.0</td>\n",
       "      <td>2290.0</td>\n",
       "      <td>1960.0</td>\n",
       "      <td>1990.0</td>\n",
       "      <td>1960.0</td>\n",
       "      <td>2530.0</td>\n",
       "      <td>2640.0</td>\n",
       "      <td>...</td>\n",
       "      <td>NaN</td>\n",
       "      <td>NaN</td>\n",
       "      <td>NaN</td>\n",
       "      <td>NaN</td>\n",
       "      <td>NaN</td>\n",
       "      <td>NaN</td>\n",
       "      <td>NaN</td>\n",
       "      <td>NaN</td>\n",
       "      <td>NaN</td>\n",
       "      <td>NaN</td>\n",
       "    </tr>\n",
       "    <tr>\n",
       "      <th>2</th>\n",
       "      <td>M3</td>\n",
       "      <td>2670.0</td>\n",
       "      <td>2590.0</td>\n",
       "      <td>2784.0</td>\n",
       "      <td>2816.0</td>\n",
       "      <td>2888.0</td>\n",
       "      <td>2906.0</td>\n",
       "      <td>2839.0</td>\n",
       "      <td>2860.0</td>\n",
       "      <td>2798.0</td>\n",
       "      <td>...</td>\n",
       "      <td>NaN</td>\n",
       "      <td>NaN</td>\n",
       "      <td>NaN</td>\n",
       "      <td>NaN</td>\n",
       "      <td>NaN</td>\n",
       "      <td>NaN</td>\n",
       "      <td>NaN</td>\n",
       "      <td>NaN</td>\n",
       "      <td>NaN</td>\n",
       "      <td>NaN</td>\n",
       "    </tr>\n",
       "    <tr>\n",
       "      <th>3</th>\n",
       "      <td>M4</td>\n",
       "      <td>7264.0</td>\n",
       "      <td>7215.0</td>\n",
       "      <td>7022.0</td>\n",
       "      <td>7040.0</td>\n",
       "      <td>6966.0</td>\n",
       "      <td>6984.0</td>\n",
       "      <td>7025.0</td>\n",
       "      <td>7082.0</td>\n",
       "      <td>6956.0</td>\n",
       "      <td>...</td>\n",
       "      <td>NaN</td>\n",
       "      <td>NaN</td>\n",
       "      <td>NaN</td>\n",
       "      <td>NaN</td>\n",
       "      <td>NaN</td>\n",
       "      <td>NaN</td>\n",
       "      <td>NaN</td>\n",
       "      <td>NaN</td>\n",
       "      <td>NaN</td>\n",
       "      <td>NaN</td>\n",
       "    </tr>\n",
       "    <tr>\n",
       "      <th>4</th>\n",
       "      <td>M5</td>\n",
       "      <td>4210.0</td>\n",
       "      <td>4290.0</td>\n",
       "      <td>4250.0</td>\n",
       "      <td>4320.0</td>\n",
       "      <td>4320.0</td>\n",
       "      <td>4330.0</td>\n",
       "      <td>4320.0</td>\n",
       "      <td>4260.0</td>\n",
       "      <td>4220.0</td>\n",
       "      <td>...</td>\n",
       "      <td>NaN</td>\n",
       "      <td>NaN</td>\n",
       "      <td>NaN</td>\n",
       "      <td>NaN</td>\n",
       "      <td>NaN</td>\n",
       "      <td>NaN</td>\n",
       "      <td>NaN</td>\n",
       "      <td>NaN</td>\n",
       "      <td>NaN</td>\n",
       "      <td>NaN</td>\n",
       "    </tr>\n",
       "  </tbody>\n",
       "</table>\n",
       "<p>5 rows × 2795 columns</p>\n",
       "</div>"
      ],
      "text/plain": [
       "   V1      V2      V3      V4      V5      V6      V7      V8      V9     V10  \\\n",
       "0  M1  8000.0  8350.0  8570.0  7700.0  7080.0  6520.0  6070.0  6650.0  6830.0   \n",
       "1  M2  2440.0  2490.0  2710.0  2290.0  1960.0  1990.0  1960.0  2530.0  2640.0   \n",
       "2  M3  2670.0  2590.0  2784.0  2816.0  2888.0  2906.0  2839.0  2860.0  2798.0   \n",
       "3  M4  7264.0  7215.0  7022.0  7040.0  6966.0  6984.0  7025.0  7082.0  6956.0   \n",
       "4  M5  4210.0  4290.0  4250.0  4320.0  4320.0  4330.0  4320.0  4260.0  4220.0   \n",
       "\n",
       "   ...    V2786  V2787  V2788  V2789  V2790  V2791  V2792  V2793  V2794  V2795  \n",
       "0  ...      NaN    NaN    NaN    NaN    NaN    NaN    NaN    NaN    NaN    NaN  \n",
       "1  ...      NaN    NaN    NaN    NaN    NaN    NaN    NaN    NaN    NaN    NaN  \n",
       "2  ...      NaN    NaN    NaN    NaN    NaN    NaN    NaN    NaN    NaN    NaN  \n",
       "3  ...      NaN    NaN    NaN    NaN    NaN    NaN    NaN    NaN    NaN    NaN  \n",
       "4  ...      NaN    NaN    NaN    NaN    NaN    NaN    NaN    NaN    NaN    NaN  \n",
       "\n",
       "[5 rows x 2795 columns]"
      ]
     },
     "execution_count": 452,
     "metadata": {},
     "output_type": "execute_result"
    }
   ],
   "source": [
    "df.head()"
   ]
  },
  {
   "cell_type": "code",
   "execution_count": 508,
   "metadata": {},
   "outputs": [
    {
     "data": {
      "image/png": "[encoded data removed]",
      "text/plain": [
       "<matplotlib.figure.Figure at 0x2511fa16828>"
      ]
     },
     "metadata": {},
     "output_type": "display_data"
    }
   ],
   "source": [
    "plt.figure(figsize=(15,4))\n",
    "x = df[3:4].values[0][1:]\n",
    "x = np.array(x, dtype=float)\n",
    "x = x[~np.isnan(x)]\n",
    "plt.plot(x);"
   ]
  },
  {
   "cell_type": "code",
   "execution_count": 495,
   "metadata": {},
   "outputs": [
    {
     "data": {
      "text/plain": [
       "array([ 1,  2,  3,  4,  5,  6,  7,  8,  9, 10, 11, 12, 13, 14, 15])"
      ]
     },
     "execution_count": 495,
     "metadata": {},
     "output_type": "execute_result"
    }
   ],
   "source": [
    "np.arange(1, 4 * int(np.log(80)))"
   ]
  },
  {
   "cell_type": "code",
   "execution_count": 505,
   "metadata": {},
   "outputs": [
    {
     "data": {
      "text/plain": [
       "({'0.3_1': 4.380766824741709,\n",
       "  '0.3_11': 2.999322264129979,\n",
       "  '0.3_16': 2.739794992357799,\n",
       "  '0.3_21': 2.9305856874300527,\n",
       "  '0.3_26': 3.156379102164771,\n",
       "  '0.3_31': 2.662089495179854,\n",
       "  '0.3_36': 2.982148257915736,\n",
       "  '0.3_41': 3.2742796827424328,\n",
       "  '0.3_6': 3.931893684079393,\n",
       "  '0.5_1': 5.808757292500767,\n",
       "  '0.5_11': 4.445307530880145,\n",
       "  '0.5_16': 3.8707160092386728,\n",
       "  '0.5_21': 4.047928117304226,\n",
       "  '0.5_26': 4.414368327681345,\n",
       "  '0.5_31': 3.7627452548427156,\n",
       "  '0.5_36': 4.154339969538625,\n",
       "  '0.5_41': 4.542074837343252,\n",
       "  '0.5_6': 5.556588810877784,\n",
       "  '0.9_1': 11.23072800813245,\n",
       "  '0.9_11': 10.444056674110229,\n",
       "  '0.9_16': 8.554135349770679,\n",
       "  '0.9_21': 8.488039229803734,\n",
       "  '0.9_26': 9.453920440616546,\n",
       "  '0.9_31': 8.125267556453853,\n",
       "  '0.9_36': 9.003938905464173,\n",
       "  '0.9_41': 10.062306046610782,\n",
       "  '0.9_6': 12.520030829700604,\n",
       "  '1_1': 13.373468856634641,\n",
       "  '1_11': 12.890857324230648,\n",
       "  '1_16': 10.485065767839256,\n",
       "  '1_21': 10.280121243720583,\n",
       "  '1_26': 11.495049957080097,\n",
       "  '1_31': 9.887873502699469,\n",
       "  '1_36': 11.023178394084862,\n",
       "  '1_41': 12.421001391995016,\n",
       "  '1_6': 15.388960725688026},\n",
       " [31, 31, 31, 31],\n",
       " 'same_results_all_models')"
      ]
     },
     "execution_count": 505,
     "metadata": {},
     "output_type": "execute_result"
    }
   ],
   "source": [
    "validate_gamma(np.arange(1, x.shape[0] // 10, 5), 5, pd.DataFrame(x))"
   ]
  },
  {
   "cell_type": "code",
   "execution_count": 513,
   "metadata": {},
   "outputs": [
    {
     "name": "stderr",
     "output_type": "stream",
     "text": [
      "\n",
      "  0%|                                                                                        | 0/47998 [00:00<?, ?it/s]\n",
      "  0%|                                                                             | 8/47998 [00:47<78:53:57,  5.92s/it]"
     ]
    },
    {
     "ename": "KeyboardInterrupt",
     "evalue": "",
     "output_type": "error",
     "traceback": [
      "\u001b[1;31m---------------------------------------------------------------------------\u001b[0m",
      "\u001b[1;31mKeyboardInterrupt\u001b[0m                         Traceback (most recent call last)",
      "\u001b[1;32m<ipython-input-513-d7f0bfa0b43c>\u001b[0m in \u001b[0;36m<module>\u001b[1;34m()\u001b[0m\n\u001b[0;32m      4\u001b[0m     \u001b[0mx\u001b[0m \u001b[1;33m=\u001b[0m \u001b[0mnp\u001b[0m\u001b[1;33m.\u001b[0m\u001b[0marray\u001b[0m\u001b[1;33m(\u001b[0m\u001b[0mx\u001b[0m\u001b[1;33m,\u001b[0m \u001b[0mdtype\u001b[0m\u001b[1;33m=\u001b[0m\u001b[0mfloat\u001b[0m\u001b[1;33m)\u001b[0m\u001b[1;33m\u001b[0m\u001b[0m\n\u001b[0;32m      5\u001b[0m     \u001b[0mx\u001b[0m \u001b[1;33m=\u001b[0m \u001b[0mx\u001b[0m\u001b[1;33m[\u001b[0m\u001b[1;33m~\u001b[0m\u001b[0mnp\u001b[0m\u001b[1;33m.\u001b[0m\u001b[0misnan\u001b[0m\u001b[1;33m(\u001b[0m\u001b[0mx\u001b[0m\u001b[1;33m)\u001b[0m\u001b[1;33m]\u001b[0m\u001b[1;33m\u001b[0m\u001b[0m\n\u001b[1;32m----> 6\u001b[1;33m     \u001b[0m_\u001b[0m\u001b[1;33m,\u001b[0m \u001b[0m_\u001b[0m\u001b[1;33m,\u001b[0m \u001b[0mbest_gamma\u001b[0m \u001b[1;33m=\u001b[0m \u001b[0mvalidate_gamma\u001b[0m\u001b[1;33m(\u001b[0m\u001b[0mnp\u001b[0m\u001b[1;33m.\u001b[0m\u001b[0marange\u001b[0m\u001b[1;33m(\u001b[0m\u001b[1;36m1\u001b[0m\u001b[1;33m,\u001b[0m \u001b[0mx\u001b[0m\u001b[1;33m.\u001b[0m\u001b[0mshape\u001b[0m\u001b[1;33m[\u001b[0m\u001b[1;36m0\u001b[0m\u001b[1;33m]\u001b[0m \u001b[1;33m//\u001b[0m \u001b[1;36m10\u001b[0m\u001b[1;33m,\u001b[0m \u001b[1;36m5\u001b[0m\u001b[1;33m)\u001b[0m\u001b[1;33m,\u001b[0m \u001b[1;36m5\u001b[0m\u001b[1;33m,\u001b[0m \u001b[0mpd\u001b[0m\u001b[1;33m.\u001b[0m\u001b[0mDataFrame\u001b[0m\u001b[1;33m(\u001b[0m\u001b[0mx\u001b[0m\u001b[1;33m)\u001b[0m\u001b[1;33m)\u001b[0m\u001b[1;33m\u001b[0m\u001b[0m\n\u001b[0m\u001b[0;32m      7\u001b[0m     \u001b[0mhist\u001b[0m\u001b[1;33m.\u001b[0m\u001b[0mappend\u001b[0m\u001b[1;33m(\u001b[0m\u001b[0mbest_gamma\u001b[0m\u001b[1;33m)\u001b[0m\u001b[1;33m\u001b[0m\u001b[0m\n",
      "\u001b[1;32m<ipython-input-481-0dc0fcfc76e1>\u001b[0m in \u001b[0;36mvalidate_gamma\u001b[1;34m(lags, n_splits, ts, gamma_test_part, gammas)\u001b[0m\n\u001b[0;32m     16\u001b[0m \u001b[1;33m\u001b[0m\u001b[0m\n\u001b[0;32m     17\u001b[0m             \u001b[1;31m# train test\u001b[0m\u001b[1;33m\u001b[0m\u001b[1;33m\u001b[0m\u001b[0m\n\u001b[1;32m---> 18\u001b[1;33m             \u001b[0mX_train\u001b[0m\u001b[1;33m,\u001b[0m \u001b[0my_train\u001b[0m \u001b[1;33m=\u001b[0m \u001b[0mcreate_lagged_dataset\u001b[0m\u001b[1;33m(\u001b[0m\u001b[0mts_train\u001b[0m\u001b[1;33m,\u001b[0m \u001b[0mlag\u001b[0m\u001b[1;33m=\u001b[0m\u001b[0mlag\u001b[0m\u001b[1;33m)\u001b[0m\u001b[1;33m\u001b[0m\u001b[0m\n\u001b[0m\u001b[0;32m     19\u001b[0m             \u001b[0mX_test\u001b[0m\u001b[1;33m,\u001b[0m \u001b[0my_test\u001b[0m \u001b[1;33m=\u001b[0m \u001b[0mcreate_lagged_dataset\u001b[0m\u001b[1;33m(\u001b[0m\u001b[0mts_test\u001b[0m\u001b[1;33m,\u001b[0m \u001b[0mlag\u001b[0m\u001b[1;33m=\u001b[0m\u001b[0mlag\u001b[0m\u001b[1;33m)\u001b[0m\u001b[1;33m\u001b[0m\u001b[0m\n\u001b[0;32m     20\u001b[0m             \u001b[0mmodel\u001b[0m \u001b[1;33m=\u001b[0m \u001b[0mRandomForestRegressor\u001b[0m\u001b[1;33m(\u001b[0m\u001b[0mrandom_state\u001b[0m\u001b[1;33m=\u001b[0m\u001b[0mseed\u001b[0m\u001b[1;33m)\u001b[0m\u001b[1;33m\u001b[0m\u001b[0m\n",
      "\u001b[1;32m<ipython-input-128-b052830752ee>\u001b[0m in \u001b[0;36mcreate_lagged_dataset\u001b[1;34m(dataset, lag)\u001b[0m\n\u001b[0;32m      2\u001b[0m     \u001b[0mdf\u001b[0m \u001b[1;33m=\u001b[0m \u001b[0mpd\u001b[0m\u001b[1;33m.\u001b[0m\u001b[0mDataFrame\u001b[0m\u001b[1;33m(\u001b[0m\u001b[0mdataset\u001b[0m\u001b[1;33m)\u001b[0m\u001b[1;33m\u001b[0m\u001b[0m\n\u001b[0;32m      3\u001b[0m     \u001b[1;32mfor\u001b[0m \u001b[0mi\u001b[0m \u001b[1;32min\u001b[0m \u001b[0mrange\u001b[0m\u001b[1;33m(\u001b[0m\u001b[0mlag\u001b[0m\u001b[1;33m)\u001b[0m\u001b[1;33m:\u001b[0m\u001b[1;33m\u001b[0m\u001b[0m\n\u001b[1;32m----> 4\u001b[1;33m         \u001b[0mnew_feature\u001b[0m \u001b[1;33m=\u001b[0m \u001b[0mdf\u001b[0m\u001b[1;33m.\u001b[0m\u001b[0mT\u001b[0m\u001b[1;33m.\u001b[0m\u001b[0mtail\u001b[0m\u001b[1;33m(\u001b[0m\u001b[1;36m1\u001b[0m\u001b[1;33m)\u001b[0m\u001b[1;33m.\u001b[0m\u001b[0mT\u001b[0m\u001b[1;33m.\u001b[0m\u001b[0mshift\u001b[0m\u001b[1;33m(\u001b[0m\u001b[1;33m-\u001b[0m\u001b[1;36m1\u001b[0m\u001b[1;33m)\u001b[0m\u001b[1;33m\u001b[0m\u001b[0m\n\u001b[0m\u001b[0;32m      5\u001b[0m         \u001b[0mdf\u001b[0m \u001b[1;33m=\u001b[0m \u001b[0mpd\u001b[0m\u001b[1;33m.\u001b[0m\u001b[0mconcat\u001b[0m\u001b[1;33m(\u001b[0m\u001b[1;33m(\u001b[0m\u001b[0mdf\u001b[0m\u001b[1;33m,\u001b[0m \u001b[0mnew_feature\u001b[0m\u001b[1;33m)\u001b[0m\u001b[1;33m,\u001b[0m \u001b[0maxis\u001b[0m\u001b[1;33m=\u001b[0m\u001b[1;36m1\u001b[0m\u001b[1;33m)\u001b[0m\u001b[1;33m\u001b[0m\u001b[0m\n\u001b[0;32m      6\u001b[0m     \u001b[0mdataX\u001b[0m \u001b[1;33m=\u001b[0m \u001b[0mdf\u001b[0m\u001b[1;33m.\u001b[0m\u001b[0mvalues\u001b[0m\u001b[1;33m[\u001b[0m\u001b[1;33m:\u001b[0m\u001b[0mlen\u001b[0m\u001b[1;33m(\u001b[0m\u001b[0mdataset\u001b[0m\u001b[1;33m)\u001b[0m \u001b[1;33m-\u001b[0m \u001b[0mlag\u001b[0m\u001b[1;33m,\u001b[0m\u001b[1;33m:\u001b[0m\u001b[1;33m-\u001b[0m\u001b[1;36m1\u001b[0m\u001b[1;33m]\u001b[0m\u001b[1;33m\u001b[0m\u001b[0m\n",
      "\u001b[1;32m~\\Anaconda3\\lib\\site-packages\\pandas\\core\\frame.py\u001b[0m in \u001b[0;36mshift\u001b[1;34m(self, periods, freq, axis)\u001b[0m\n\u001b[0;32m   3798\u001b[0m     \u001b[1;32mdef\u001b[0m \u001b[0mshift\u001b[0m\u001b[1;33m(\u001b[0m\u001b[0mself\u001b[0m\u001b[1;33m,\u001b[0m \u001b[0mperiods\u001b[0m\u001b[1;33m=\u001b[0m\u001b[1;36m1\u001b[0m\u001b[1;33m,\u001b[0m \u001b[0mfreq\u001b[0m\u001b[1;33m=\u001b[0m\u001b[1;32mNone\u001b[0m\u001b[1;33m,\u001b[0m \u001b[0maxis\u001b[0m\u001b[1;33m=\u001b[0m\u001b[1;36m0\u001b[0m\u001b[1;33m)\u001b[0m\u001b[1;33m:\u001b[0m\u001b[1;33m\u001b[0m\u001b[0m\n\u001b[0;32m   3799\u001b[0m         return super(DataFrame, self).shift(periods=periods, freq=freq,\n\u001b[1;32m-> 3800\u001b[1;33m                                             axis=axis)\n\u001b[0m\u001b[0;32m   3801\u001b[0m \u001b[1;33m\u001b[0m\u001b[0m\n\u001b[0;32m   3802\u001b[0m     def set_index(self, keys, drop=True, append=False, inplace=False,\n",
      "\u001b[1;32m~\\Anaconda3\\lib\\site-packages\\pandas\\core\\generic.py\u001b[0m in \u001b[0;36mshift\u001b[1;34m(self, periods, freq, axis)\u001b[0m\n\u001b[0;32m   7820\u001b[0m         \u001b[0mblock_axis\u001b[0m \u001b[1;33m=\u001b[0m \u001b[0mself\u001b[0m\u001b[1;33m.\u001b[0m\u001b[0m_get_block_manager_axis\u001b[0m\u001b[1;33m(\u001b[0m\u001b[0maxis\u001b[0m\u001b[1;33m)\u001b[0m\u001b[1;33m\u001b[0m\u001b[0m\n\u001b[0;32m   7821\u001b[0m         \u001b[1;32mif\u001b[0m \u001b[0mfreq\u001b[0m \u001b[1;32mis\u001b[0m \u001b[1;32mNone\u001b[0m\u001b[1;33m:\u001b[0m\u001b[1;33m\u001b[0m\u001b[0m\n\u001b[1;32m-> 7822\u001b[1;33m             \u001b[0mnew_data\u001b[0m \u001b[1;33m=\u001b[0m \u001b[0mself\u001b[0m\u001b[1;33m.\u001b[0m\u001b[0m_data\u001b[0m\u001b[1;33m.\u001b[0m\u001b[0mshift\u001b[0m\u001b[1;33m(\u001b[0m\u001b[0mperiods\u001b[0m\u001b[1;33m=\u001b[0m\u001b[0mperiods\u001b[0m\u001b[1;33m,\u001b[0m \u001b[0maxis\u001b[0m\u001b[1;33m=\u001b[0m\u001b[0mblock_axis\u001b[0m\u001b[1;33m)\u001b[0m\u001b[1;33m\u001b[0m\u001b[0m\n\u001b[0m\u001b[0;32m   7823\u001b[0m         \u001b[1;32melse\u001b[0m\u001b[1;33m:\u001b[0m\u001b[1;33m\u001b[0m\u001b[0m\n\u001b[0;32m   7824\u001b[0m             \u001b[1;32mreturn\u001b[0m \u001b[0mself\u001b[0m\u001b[1;33m.\u001b[0m\u001b[0mtshift\u001b[0m\u001b[1;33m(\u001b[0m\u001b[0mperiods\u001b[0m\u001b[1;33m,\u001b[0m \u001b[0mfreq\u001b[0m\u001b[1;33m)\u001b[0m\u001b[1;33m\u001b[0m\u001b[0m\n",
      "\u001b[1;32m~\\Anaconda3\\lib\\site-packages\\pandas\\core\\internals.py\u001b[0m in \u001b[0;36mshift\u001b[1;34m(self, **kwargs)\u001b[0m\n\u001b[0;32m   3703\u001b[0m \u001b[1;33m\u001b[0m\u001b[0m\n\u001b[0;32m   3704\u001b[0m     \u001b[1;32mdef\u001b[0m \u001b[0mshift\u001b[0m\u001b[1;33m(\u001b[0m\u001b[0mself\u001b[0m\u001b[1;33m,\u001b[0m \u001b[1;33m**\u001b[0m\u001b[0mkwargs\u001b[0m\u001b[1;33m)\u001b[0m\u001b[1;33m:\u001b[0m\u001b[1;33m\u001b[0m\u001b[0m\n\u001b[1;32m-> 3705\u001b[1;33m         \u001b[1;32mreturn\u001b[0m \u001b[0mself\u001b[0m\u001b[1;33m.\u001b[0m\u001b[0mapply\u001b[0m\u001b[1;33m(\u001b[0m\u001b[1;34m'shift'\u001b[0m\u001b[1;33m,\u001b[0m \u001b[1;33m**\u001b[0m\u001b[0mkwargs\u001b[0m\u001b[1;33m)\u001b[0m\u001b[1;33m\u001b[0m\u001b[0m\n\u001b[0m\u001b[0;32m   3706\u001b[0m \u001b[1;33m\u001b[0m\u001b[0m\n\u001b[0;32m   3707\u001b[0m     \u001b[1;32mdef\u001b[0m \u001b[0mfillna\u001b[0m\u001b[1;33m(\u001b[0m\u001b[0mself\u001b[0m\u001b[1;33m,\u001b[0m \u001b[1;33m**\u001b[0m\u001b[0mkwargs\u001b[0m\u001b[1;33m)\u001b[0m\u001b[1;33m:\u001b[0m\u001b[1;33m\u001b[0m\u001b[0m\n",
      "\u001b[1;32m~\\Anaconda3\\lib\\site-packages\\pandas\\core\\internals.py\u001b[0m in \u001b[0;36mapply\u001b[1;34m(self, f, axes, filter, do_integrity_check, consolidate, **kwargs)\u001b[0m\n\u001b[0;32m   3585\u001b[0m             \u001b[1;32mreturn\u001b[0m \u001b[0mself\u001b[0m\u001b[1;33m.\u001b[0m\u001b[0mmake_empty\u001b[0m\u001b[1;33m(\u001b[0m\u001b[0maxes\u001b[0m \u001b[1;32mor\u001b[0m \u001b[0mself\u001b[0m\u001b[1;33m.\u001b[0m\u001b[0maxes\u001b[0m\u001b[1;33m)\u001b[0m\u001b[1;33m\u001b[0m\u001b[0m\n\u001b[0;32m   3586\u001b[0m         bm = self.__class__(result_blocks, axes or self.axes,\n\u001b[1;32m-> 3587\u001b[1;33m                             do_integrity_check=do_integrity_check)\n\u001b[0m\u001b[0;32m   3588\u001b[0m         \u001b[0mbm\u001b[0m\u001b[1;33m.\u001b[0m\u001b[0m_consolidate_inplace\u001b[0m\u001b[1;33m(\u001b[0m\u001b[1;33m)\u001b[0m\u001b[1;33m\u001b[0m\u001b[0m\n\u001b[0;32m   3589\u001b[0m         \u001b[1;32mreturn\u001b[0m \u001b[0mbm\u001b[0m\u001b[1;33m\u001b[0m\u001b[0m\n",
      "\u001b[1;32m~\\Anaconda3\\lib\\site-packages\\pandas\\core\\internals.py\u001b[0m in \u001b[0;36m__init__\u001b[1;34m(self, blocks, axes, do_integrity_check)\u001b[0m\n\u001b[0;32m   3284\u001b[0m         \u001b[0mself\u001b[0m\u001b[1;33m.\u001b[0m\u001b[0m_consolidate_check\u001b[0m\u001b[1;33m(\u001b[0m\u001b[1;33m)\u001b[0m\u001b[1;33m\u001b[0m\u001b[0m\n\u001b[0;32m   3285\u001b[0m \u001b[1;33m\u001b[0m\u001b[0m\n\u001b[1;32m-> 3286\u001b[1;33m         \u001b[0mself\u001b[0m\u001b[1;33m.\u001b[0m\u001b[0m_rebuild_blknos_and_blklocs\u001b[0m\u001b[1;33m(\u001b[0m\u001b[1;33m)\u001b[0m\u001b[1;33m\u001b[0m\u001b[0m\n\u001b[0m\u001b[0;32m   3287\u001b[0m \u001b[1;33m\u001b[0m\u001b[0m\n\u001b[0;32m   3288\u001b[0m     \u001b[1;32mdef\u001b[0m \u001b[0mmake_empty\u001b[0m\u001b[1;33m(\u001b[0m\u001b[0mself\u001b[0m\u001b[1;33m,\u001b[0m \u001b[0maxes\u001b[0m\u001b[1;33m=\u001b[0m\u001b[1;32mNone\u001b[0m\u001b[1;33m)\u001b[0m\u001b[1;33m:\u001b[0m\u001b[1;33m\u001b[0m\u001b[0m\n",
      "\u001b[1;32m~\\Anaconda3\\lib\\site-packages\\pandas\\core\\internals.py\u001b[0m in \u001b[0;36m_rebuild_blknos_and_blklocs\u001b[1;34m(self)\u001b[0m\n\u001b[0;32m   3373\u001b[0m             \u001b[0mrl\u001b[0m \u001b[1;33m=\u001b[0m \u001b[0mblk\u001b[0m\u001b[1;33m.\u001b[0m\u001b[0mmgr_locs\u001b[0m\u001b[1;33m\u001b[0m\u001b[0m\n\u001b[0;32m   3374\u001b[0m             \u001b[0mnew_blknos\u001b[0m\u001b[1;33m[\u001b[0m\u001b[0mrl\u001b[0m\u001b[1;33m.\u001b[0m\u001b[0mindexer\u001b[0m\u001b[1;33m]\u001b[0m \u001b[1;33m=\u001b[0m \u001b[0mblkno\u001b[0m\u001b[1;33m\u001b[0m\u001b[0m\n\u001b[1;32m-> 3375\u001b[1;33m             \u001b[0mnew_blklocs\u001b[0m\u001b[1;33m[\u001b[0m\u001b[0mrl\u001b[0m\u001b[1;33m.\u001b[0m\u001b[0mindexer\u001b[0m\u001b[1;33m]\u001b[0m \u001b[1;33m=\u001b[0m \u001b[0mnp\u001b[0m\u001b[1;33m.\u001b[0m\u001b[0marange\u001b[0m\u001b[1;33m(\u001b[0m\u001b[0mlen\u001b[0m\u001b[1;33m(\u001b[0m\u001b[0mrl\u001b[0m\u001b[1;33m)\u001b[0m\u001b[1;33m)\u001b[0m\u001b[1;33m\u001b[0m\u001b[0m\n\u001b[0m\u001b[0;32m   3376\u001b[0m \u001b[1;33m\u001b[0m\u001b[0m\n\u001b[0;32m   3377\u001b[0m         \u001b[1;32mif\u001b[0m \u001b[1;33m(\u001b[0m\u001b[0mnew_blknos\u001b[0m \u001b[1;33m==\u001b[0m \u001b[1;33m-\u001b[0m\u001b[1;36m1\u001b[0m\u001b[1;33m)\u001b[0m\u001b[1;33m.\u001b[0m\u001b[0many\u001b[0m\u001b[1;33m(\u001b[0m\u001b[1;33m)\u001b[0m\u001b[1;33m:\u001b[0m\u001b[1;33m\u001b[0m\u001b[0m\n",
      "\u001b[1;31mKeyboardInterrupt\u001b[0m: "
     ]
    }
   ],
   "source": [
    "hist = []\n",
    "for i in tqdm(range(df.shape[0] - 2)):\n",
    "    x = df[i:i+1].values[0][1:]\n",
    "    x = np.array(x, dtype=float)\n",
    "    x = x[~np.isnan(x)] \n",
    "    _, _, best_gamma = validate_gamma(np.arange(1, x.shape[0] // 10, 5), 5, pd.DataFrame(x))\n",
    "    hist.append(best_gamma)"
   ]
  },
  {
   "cell_type": "code",
   "execution_count": 512,
   "metadata": {},
   "outputs": [
    {
     "data": {
      "text/plain": [
       "['same_results_all_models',\n",
       " 0.5,\n",
       " 'same_results_all_models',\n",
       " 'same_results_all_models',\n",
       " 'same_results_all_models']"
      ]
     },
     "execution_count": 512,
     "metadata": {},
     "output_type": "execute_result"
    }
   ],
   "source": [
    "hist"
   ]
  },
  {
   "cell_type": "code",
   "execution_count": null,
   "metadata": {
    "collapsed": true
   },
   "outputs": [],
   "source": []
  }
 ],
 "metadata": {
  "kernelspec": {
   "display_name": "Python 3",
   "language": "python",
   "name": "python3"
  },
  "language_info": {
   "codemirror_mode": {
    "name": "ipython",
    "version": 3
   },
   "file_extension": ".py",
   "mimetype": "text/x-python",
   "name": "python",
   "nbconvert_exporter": "python",
   "pygments_lexer": "ipython3",
   "version": "3.6.3"
  }
 },
 "nbformat": 4,
 "nbformat_minor": 2
}
