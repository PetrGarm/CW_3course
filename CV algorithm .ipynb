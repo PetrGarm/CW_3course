{
 "cells": [
  {
   "cell_type": "code",
   "execution_count": 216,
   "metadata": {},
   "outputs": [],
   "source": [
    "import pandas as pd\n",
    "import numpy as np\n",
    "import statsmodels\n",
    "import matplotlib.pyplot as plt\n",
    "\n",
    "from sklearn.model_selection import TimeSeriesSplit\n",
    "from statsmodels.tsa.arima_model import ARIMA\n",
    "from sklearn.ensemble import RandomForestRegressor\n",
    "%matplotlib inline\n",
    "\n",
    "import quandl\n",
    "\n",
    "import warnings\n",
    "warnings.filterwarnings('ignore')\n",
    "\n",
    "seed = 17\n"
   ]
  },
  {
   "cell_type": "code",
   "execution_count": 217,
   "metadata": {},
   "outputs": [],
   "source": [
    "np.random.seed(seed)"
   ]
  },
  {
   "cell_type": "code",
   "execution_count": 128,
   "metadata": {
    "collapsed": true
   },
   "outputs": [],
   "source": [
    "def create_lagged_dataset(dataset, lag=1):\n",
    "    df = pd.DataFrame(dataset)\n",
    "    for i in range(lag):\n",
    "        new_feature = df.T.tail(1).T.shift(-1)\n",
    "        df = pd.concat((df, new_feature), axis=1)\n",
    "    dataX = df.values[:len(dataset) - lag,:-1]\n",
    "    dataY = df.values[:len(dataset) - lag,-1]\n",
    "    return dataX, dataY"
   ]
  },
  {
   "cell_type": "code",
   "execution_count": 91,
   "metadata": {
    "collapsed": true
   },
   "outputs": [],
   "source": [
    "# source: https://stats.stackexchange.com/questions/58391/mean-absolute-percentage-error-mape-in-scikit-learn\n",
    "def mean_absolute_percentage_error(y_true, y_pred): \n",
    "    return np.mean(np.abs((y_true - y_pred) / y_true)) * 100"
   ]
  },
  {
   "cell_type": "code",
   "execution_count": 258,
   "metadata": {},
   "outputs": [],
   "source": [
    "# ts_df = quandl.get(\"FRBP/ROUTPUT_MOSTRECENT\", authtoken=\"MHASo5sqBFCvT5s55CxJ\")\n",
    "ts_df = quandl.get(\"FRED/DFF\", authtoken=\"MHASo5sqBFCvT5s55CxJ\")"
   ]
  },
  {
   "cell_type": "code",
   "execution_count": 259,
   "metadata": {},
   "outputs": [
    {
     "data": {
      "text/html": [
       "<div>\n",
       "<style scoped>\n",
       "    .dataframe tbody tr th:only-of-type {\n",
       "        vertical-align: middle;\n",
       "    }\n",
       "\n",
       "    .dataframe tbody tr th {\n",
       "        vertical-align: top;\n",
       "    }\n",
       "\n",
       "    .dataframe thead th {\n",
       "        text-align: right;\n",
       "    }\n",
       "</style>\n",
       "<table border=\"1\" class=\"dataframe\">\n",
       "  <thead>\n",
       "    <tr style=\"text-align: right;\">\n",
       "      <th></th>\n",
       "      <th>Value</th>\n",
       "    </tr>\n",
       "    <tr>\n",
       "      <th>Date</th>\n",
       "      <th></th>\n",
       "    </tr>\n",
       "  </thead>\n",
       "  <tbody>\n",
       "    <tr>\n",
       "      <th>2019-05-13</th>\n",
       "      <td>2.38</td>\n",
       "    </tr>\n",
       "    <tr>\n",
       "      <th>2019-05-14</th>\n",
       "      <td>2.38</td>\n",
       "    </tr>\n",
       "    <tr>\n",
       "      <th>2019-05-15</th>\n",
       "      <td>2.40</td>\n",
       "    </tr>\n",
       "    <tr>\n",
       "      <th>2019-05-16</th>\n",
       "      <td>2.39</td>\n",
       "    </tr>\n",
       "    <tr>\n",
       "      <th>2019-05-17</th>\n",
       "      <td>2.39</td>\n",
       "    </tr>\n",
       "  </tbody>\n",
       "</table>\n",
       "</div>"
      ],
      "text/plain": [
       "            Value\n",
       "Date             \n",
       "2019-05-13   2.38\n",
       "2019-05-14   2.38\n",
       "2019-05-15   2.40\n",
       "2019-05-16   2.39\n",
       "2019-05-17   2.39"
      ]
     },
     "execution_count": 259,
     "metadata": {},
     "output_type": "execute_result"
    }
   ],
   "source": [
    "ts_df.tail()"
   ]
  },
  {
   "cell_type": "code",
   "execution_count": 260,
   "metadata": {},
   "outputs": [
    {
     "data": {
      "image/png": "[encoded data removed]",
      "text/plain": [
       "<matplotlib.figure.Figure at 0x2511e52da58>"
      ]
     },
     "metadata": {},
     "output_type": "display_data"
    }
   ],
   "source": [
    "ts_df.plot();"
   ]
  },
  {
   "cell_type": "code",
   "execution_count": 269,
   "metadata": {},
   "outputs": [],
   "source": [
    "# for RandomForest\n",
    "\n",
    "def validate_gamma(lags, n_splits, ts, gamma_test_part = 6, gammas=[0.9, 0.95, 1]):\n",
    "    ts_gamma_train = ts.values[: (gamma_test_part - 1) * int(ts.shape[0] // gamma_test_part)]\n",
    "    ts_gamma_test = ts.values[(gamma_test_part - 1) * int(ts.shape[0] // gamma_test_part):]\n",
    "    \n",
    "    res_mape = {}\n",
    "    tscv = TimeSeriesSplit(n_splits=n_splits)\n",
    "    gammas_best = []\n",
    "    i = -1\n",
    "    for gamma in gammas:\n",
    "        i += 1\n",
    "        lowest_mape = 10*10\n",
    "        gammas_best.append(-1)\n",
    "        for lag in lags:\n",
    "            mapes = []\n",
    "            for train_index, test_index in tscv.split(ts_gamma_train):\n",
    "                ts_train, ts_test = ts_gamma_train[train_index], ts_gamma_train[test_index]\n",
    "\n",
    "                # train test\n",
    "                X_train, y_train = create_lagged_dataset(ts_train, lag=lag)\n",
    "                X_test, y_test = create_lagged_dataset(ts_test, lag=lag)\n",
    "                model = RandomForestRegressor(random_state=seed)\n",
    "                model.fit(X_train,y_train)\n",
    "                y_hat = model.predict(X_test)\n",
    "\n",
    "                mapes.append(mean_absolute_percentage_error(y_test, y_hat))\n",
    "\n",
    "            \n",
    "            powers = np.arange(len(mapes))[::-1]\n",
    "            gammas = np.ones(len(mapes)) * gamma\n",
    "            res_mape[str(gamma) + \"_\" + str(lag)] = np.mean(np.power(gammas, powers) * mapes)\n",
    "            if np.mean(np.power(gammas, powers) * mapes) < lowest_mape:\n",
    "                gammas_best[i] = lag\n",
    "                lowest_mape = np.mean(np.power(gammas, powers) * mapes)\n",
    "            \n",
    "    mapes_for_gammas = []\n",
    "    best_gamma = None\n",
    "    if len(np.unique(gammas_best)) == 1:\n",
    "        best_gamma = \"same_results\"\n",
    "    else:\n",
    "        for gamma_best in gammas_best:\n",
    "            \n",
    "            X_train, y_train = create_lagged_dataset(ts_gamma_train, lag=gamma_best)\n",
    "            X_test, y_test = create_lagged_dataset(ts_gamma_test, lag=gamma_best)\n",
    "            model = RandomForestRegressor()\n",
    "            model.fit(X_train, y_train)\n",
    "            \n",
    "            y_hat = model.predict(X_test)\n",
    "            mapes_for_gammas.append(mean_absolute_percentage_error(y_test, y_hat))\n",
    "        \n",
    "        best_gamma = gammas[np.argmin(mapes_for_gammas)]\n",
    "            \n",
    "    return res_mape , gammas_best , best_gamma\n",
    "            \n",
    "    \n",
    "            "
   ]
  },
  {
   "cell_type": "code",
   "execution_count": 270,
   "metadata": {},
   "outputs": [
    {
     "data": {
      "text/plain": [
       "({'0.95_1': 7.433729043890034,\n",
       "  '0.95_2': 7.241533331454778,\n",
       "  '0.95_3': 7.6351037760588465,\n",
       "  '0.9_1': 6.443127063947051,\n",
       "  '0.9_2': 6.218368142710573,\n",
       "  '0.9_3': 6.583993725023026,\n",
       "  '1_1': 8.565141244562165,\n",
       "  '1_2': 8.4102975074545,\n",
       "  '1_3': 8.83576779475328},\n",
       " [2, 2, 2],\n",
       " 'same_results')"
      ]
     },
     "execution_count": 270,
     "metadata": {},
     "output_type": "execute_result"
    }
   ],
   "source": [
    "validate_gamma([1,2,3], 5, ts_df)"
   ]
  },
  {
   "cell_type": "code",
   "execution_count": 188,
   "metadata": {},
   "outputs": [
    {
     "data": {
      "text/plain": [
       "array([0.81, 0.9 , 1.  ])"
      ]
     },
     "execution_count": 188,
     "metadata": {},
     "output_type": "execute_result"
    }
   ],
   "source": [
    "powers = np.arange(3)[::-1]\n",
    "gammas = np.ones(3) * 0.9\n",
    "np.power(gammas, powers)"
   ]
  }
 ],
 "metadata": {
  "kernelspec": {
   "display_name": "Python 3",
   "language": "python",
   "name": "python3"
  },
  "language_info": {
   "codemirror_mode": {
    "name": "ipython",
    "version": 3
   },
   "file_extension": ".py",
   "mimetype": "text/x-python",
   "name": "python",
   "nbconvert_exporter": "python",
   "pygments_lexer": "ipython3",
   "version": "3.6.3"
  }
 },
 "nbformat": 4,
 "nbformat_minor": 2
}
